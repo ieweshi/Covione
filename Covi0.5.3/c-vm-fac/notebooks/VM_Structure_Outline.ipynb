{
 "cells": [
  {
   "cell_type": "markdown",
   "metadata": {
    "id": "1"
   },
   "source": [
    "# VM Structure Outline\n",
    "\n",
    "This notebook outlines the structure and functionality of a virtual machine (VM) designed to process bytecode with a magic number of `FAACBEED`, specifically for handling `.fac` files."
   ]
  },
  {
   "cell_type": "markdown",
   "metadata": {
    "id": "2"
   },
   "source": [
    "## 1. Magic Number\n",
    "\n",
    "- **Magic Number**: A unique identifier at the beginning of the `.fac` file to verify its format. In this case, the magic number is `FAACBEED`."
   ]
  },
  {
   "cell_type": "markdown",
   "metadata": {
    "id": "3"
   },
   "source": [
    "## 2. File Format\n",
    "\n",
    "- **File Extension**: `.fac`\n",
    "- **Structure**:\n",
    "    - 4 bytes: Magic number (`FAACBEED`)\n",
    "    - Remaining bytes: Bytecode instructions for the VM."
   ]
  },
  {
   "cell_type": "markdown",
   "metadata": {
    "id": "4"
   },
   "source": [
    "## 3. VM Structure\n",
    "\n",
    "- **VM Structure**: The VM will be defined using a struct that holds the state of the virtual machine.\n",
    "- **Components**:\n",
    "    - Program Counter (PC): Tracks the current instruction.\n",
    "    - Memory: Holds the bytecode instructions.\n",
    "    - Registers: Temporary storage for data during execution.\n",
    "    - Integer Register: Stores integer values.\n",
    "    - String Buffer: Stores string values for output."
   ]
  },
  {
   "cell_type": "markdown",
   "metadata": {
    "id": "5"
   },
   "source": [
    "## 4. Opcode Definitions\n",
    "\n",
    "- The VM will support various opcodes, including:\n",
    "    - `0x01`: LOAD_BYTE - Load a byte from bytecode into a register.\n",
    "    - `0x02`: PRINT_BYTE - Output the value of a register to the screen.\n",
    "    - `0x10`: LOAD_INT - Load a 4-byte integer into the integer register.\n",
    "    - `0x11`: PRINT_INT - Output the integer register as a string.\n",
    "    - `0x20`: LOAD_STR - Load a string (length-prefixed) into the string buffer.\n",
    "    - `0x21`: PRINT_STR - Output the string buffer to the screen.\n",
    "    - `0xFF`: HALT - Stop execution."
   ]
  },
  {
   "cell_type": "markdown",
   "metadata": {
    "id": "6"
   },
   "source": [
    "## 5. Implementation Details\n",
    "\n",
    "- **Initialization**: Functions to set up the VM, allocate memory, and prepare for execution.\n",
    "- **Execution Loop**: A loop that reads opcodes from the bytecode and executes the corresponding operations.\n",
    "- **Error Handling**: Mechanisms to handle invalid magic numbers and unsupported opcodes.\n",
    "- **No Standard Output Functions**: All output is performed using low-level system calls (e.g., `write`) instead of standard C functions like `printf` or `puts`."
   ]
  },
  {
   "cell_type": "markdown",
   "metadata": {
    "id": "7"
   },
   "source": [
    "## 6. Conclusion\n",
    "\n",
    "This notebook provides a high-level overview of the virtual machine's structure and functionality. The next steps involve implementing the VM in C, following the outlined specifications."
   ]
  },
  {
   "cell_type": "markdown",
   "id": "cf3a52b9",
   "metadata": {},
   "source": [
    "## Why the VM doesn't seem to be at fault\n",
    "\n",
    "The error message `Invalid magic number` is not due to a flaw in the VM implementation. Instead, it is likely caused by an endianness issue. The magic number is written by the compiler (`covicc`) in a fixed byte order (big-endian), but when the VM reads it into a native `uint32_t` on a little-endian machine, the byte order is reversed. This causes the comparison with the expected magic number (defined as `0xFAACBEED`) to fail.\n",
    "\n",
    "To fix the issue, consider either:\n",
    "\n",
    "- Adjusting the magic number reading in the VM to account for endianness, or\n",
    "- Writing the magic number from the compiler in the native endianness of the machine.\n",
    "\n",
    "In summary, the VM logic is correct; the error is due to a mismatch in byte ordering of the magic number."
   ]
  },
  {
   "cell_type": "markdown",
   "id": "a5b7e6e3",
   "metadata": {},
   "source": [
    "### VM Investigation\n",
    "\n",
    "The error message *Invalid magic number* is generally not caused by an error in the VM implementation in `vm.c`/`vm.h`. Our VM code is designed to read the magic number as written by the compiler. \n",
    "\n",
    "The issue is more likely due to a mismatch in byte ordering between the way the magic number is written by the compiler (`covicc`) and how it is expected by the VM. This is especially important on little-endian systems. \n",
    "\n",
    "Double-check that the compiler writes the magic number in the native endianness of your system or adjust the VM's reading logic accordingly. \n",
    "\n",
    "In summary, if you verify that the bytecode is correctly generated and the endianness is correctly handled, the VM itself is not at fault."
   ]
  }
 ],
 "metadata": {
  "language_info": {
   "name": "python"
  }
 },
 "nbformat": 4,
 "nbformat_minor": 5
}
